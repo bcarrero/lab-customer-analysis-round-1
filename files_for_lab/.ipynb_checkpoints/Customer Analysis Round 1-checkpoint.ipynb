{
 "cells": [
  {
   "cell_type": "code",
   "execution_count": 1,
   "metadata": {},
   "outputs": [],
   "source": [
    "import pandas as pd\n",
    "import numpy as np\n",
    "\n",
    "file1 = pd.read_csv('file1.csv')\n",
    "file2 = pd.read_csv('file2.csv')\n",
    "file3 = pd.read_csv('file3.csv')"
   ]
  },
  {
   "cell_type": "code",
   "execution_count": 2,
   "metadata": {},
   "outputs": [
    {
     "name": "stdout",
     "output_type": "stream",
     "text": [
      "file1.shape:  (4008, 11)\n",
      "file2.shape:  (996, 11)\n",
      "file3.shape:  (7070, 11)\n"
     ]
    }
   ],
   "source": [
    "print(\"file1.shape: \",file1.shape)\n",
    "print(\"file2.shape: \",file2.shape)\n",
    "print(\"file3.shape: \",file3.shape)"
   ]
  },
  {
   "cell_type": "code",
   "execution_count": 3,
   "metadata": {},
   "outputs": [
    {
     "name": "stdout",
     "output_type": "stream",
     "text": [
      "Index(['Customer', 'ST', 'GENDER', 'Education', 'Customer Lifetime Value',\n",
      "       'Income', 'Monthly Premium Auto', 'Number of Open Complaints',\n",
      "       'Policy Type', 'Vehicle Class', 'Total Claim Amount'],\n",
      "      dtype='object')\n",
      "Index(['Customer', 'ST', 'GENDER', 'Education', 'Customer Lifetime Value',\n",
      "       'Income', 'Monthly Premium Auto', 'Number of Open Complaints',\n",
      "       'Total Claim Amount', 'Policy Type', 'Vehicle Class'],\n",
      "      dtype='object')\n",
      "Index(['Customer', 'State', 'Customer Lifetime Value', 'Education', 'Gender',\n",
      "       'Income', 'Monthly Premium Auto', 'Number of Open Complaints',\n",
      "       'Policy Type', 'Total Claim Amount', 'Vehicle Class'],\n",
      "      dtype='object')\n"
     ]
    }
   ],
   "source": [
    "print(file1.columns)\n",
    "print(file2.columns)\n",
    "print(file3.columns)"
   ]
  },
  {
   "cell_type": "code",
   "execution_count": 4,
   "metadata": {},
   "outputs": [
    {
     "name": "stdout",
     "output_type": "stream",
     "text": [
      "Index(['Customer', 'State', 'GENDER', 'Education', 'Customer Lifetime Value',\n",
      "       'Income', 'Monthly Premium Auto', 'Number of Open Complaints',\n",
      "       'Policy Type', 'Vehicle Class', 'Total Claim Amount'],\n",
      "      dtype='object')\n",
      "Index(['Customer', 'State', 'GENDER', 'Education', 'Customer Lifetime Value',\n",
      "       'Income', 'Monthly Premium Auto', 'Number of Open Complaints',\n",
      "       'Total Claim Amount', 'Policy Type', 'Vehicle Class'],\n",
      "      dtype='object')\n",
      "Index(['Customer', 'State', 'Customer Lifetime Value', 'Education', 'Gender',\n",
      "       'Income', 'Monthly Premium Auto', 'Number of Open Complaints',\n",
      "       'Policy Type', 'Total Claim Amount', 'Vehicle Class'],\n",
      "      dtype='object')\n",
      "Index(['CUSTOMER', 'STATE', 'GENDER', 'EDUCATION', 'CUSTOMER LIFETIME VALUE',\n",
      "       'INCOME', 'MONTHLY PREMIUM AUTO', 'NUMBER OF OPEN COMPLAINTS',\n",
      "       'POLICY TYPE', 'VEHICLE CLASS', 'TOTAL CLAIM AMOUNT'],\n",
      "      dtype='object')\n",
      "file1.shape:  (4008, 11)\n",
      "file2.shape:  (996, 11)\n",
      "file3.shape:  (7070, 11)\n"
     ]
    }
   ],
   "source": [
    "file1 = file1.rename(columns={'ST':'State'})\n",
    "file2 = file2.rename(columns={'ST':'State'})\n",
    "\n",
    "print(file1.columns)\n",
    "print(file2.columns)\n",
    "print(file3.columns)\n",
    "\n",
    "file1.columns = file1.columns.str.upper()\n",
    "file2.columns = file2.columns.str.upper()\n",
    "file3.columns = file3.columns.str.upper()\n",
    "print(file1.columns)\n",
    "\n",
    "print(\"file1.shape: \",file1.shape)\n",
    "print(\"file2.shape: \",file2.shape)\n",
    "print(\"file3.shape: \",file3.shape)"
   ]
  },
  {
   "cell_type": "code",
   "execution_count": 5,
   "metadata": {},
   "outputs": [],
   "source": [
    "file1 = file1[['CUSTOMER', 'STATE', 'GENDER', 'EDUCATION', 'CUSTOMER LIFETIME VALUE',\n",
    "       'INCOME', 'MONTHLY PREMIUM AUTO', 'NUMBER OF OPEN COMPLAINTS',\n",
    "       'POLICY TYPE', 'VEHICLE CLASS', 'TOTAL CLAIM AMOUNT']]\n",
    "\n",
    "file2 = file2[['CUSTOMER', 'STATE', 'GENDER', 'EDUCATION', 'CUSTOMER LIFETIME VALUE',\n",
    "       'INCOME', 'MONTHLY PREMIUM AUTO', 'NUMBER OF OPEN COMPLAINTS',\n",
    "       'POLICY TYPE', 'VEHICLE CLASS', 'TOTAL CLAIM AMOUNT']]\n",
    "\n",
    "file3 = file3[['CUSTOMER', 'STATE', 'GENDER', 'EDUCATION', 'CUSTOMER LIFETIME VALUE',\n",
    "       'INCOME', 'MONTHLY PREMIUM AUTO', 'NUMBER OF OPEN COMPLAINTS',\n",
    "       'POLICY TYPE', 'VEHICLE CLASS', 'TOTAL CLAIM AMOUNT']]"
   ]
  },
  {
   "cell_type": "code",
   "execution_count": 6,
   "metadata": {},
   "outputs": [
    {
     "name": "stdout",
     "output_type": "stream",
     "text": [
      "file1.shape:  (1071, 11)\n",
      "file2.shape:  (996, 11)\n",
      "file3.shape:  (7070, 11)\n"
     ]
    }
   ],
   "source": [
    "file1=file1.dropna(axis=0,how='all')\n",
    "file2=file2.dropna(axis=0,how='all')\n",
    "file3=file3.dropna(axis=0,how='all')\n",
    "print(\"file1.shape: \",file1.shape)\n",
    "print(\"file2.shape: \",file2.shape)\n",
    "print(\"file3.shape: \",file3.shape)"
   ]
  },
  {
   "cell_type": "code",
   "execution_count": 7,
   "metadata": {},
   "outputs": [],
   "source": [
    "concat_f = pd.concat([file1,file2,file3], axis=0)"
   ]
  },
  {
   "cell_type": "code",
   "execution_count": 8,
   "metadata": {},
   "outputs": [
    {
     "name": "stdout",
     "output_type": "stream",
     "text": [
      "concat_f.shape:  (9137, 11)\n"
     ]
    }
   ],
   "source": [
    "print(\"concat_f.shape: \",concat_f.shape)"
   ]
  },
  {
   "cell_type": "code",
   "execution_count": 9,
   "metadata": {},
   "outputs": [
    {
     "name": "stdout",
     "output_type": "stream",
     "text": [
      "<class 'pandas.core.frame.DataFrame'>\n",
      "Int64Index: 9137 entries, 0 to 7069\n",
      "Data columns (total 11 columns):\n",
      "CUSTOMER                     9137 non-null object\n",
      "STATE                        9137 non-null object\n",
      "GENDER                       9015 non-null object\n",
      "EDUCATION                    9137 non-null object\n",
      "CUSTOMER LIFETIME VALUE      9130 non-null object\n",
      "INCOME                       9137 non-null float64\n",
      "MONTHLY PREMIUM AUTO         9137 non-null float64\n",
      "NUMBER OF OPEN COMPLAINTS    9137 non-null object\n",
      "POLICY TYPE                  9137 non-null object\n",
      "VEHICLE CLASS                9137 non-null object\n",
      "TOTAL CLAIM AMOUNT           9137 non-null float64\n",
      "dtypes: float64(3), object(8)\n",
      "memory usage: 856.6+ KB\n"
     ]
    }
   ],
   "source": [
    "concat_f.info()"
   ]
  },
  {
   "cell_type": "code",
   "execution_count": 10,
   "metadata": {},
   "outputs": [
    {
     "data": {
      "text/html": [
       "<div>\n",
       "<style scoped>\n",
       "    .dataframe tbody tr th:only-of-type {\n",
       "        vertical-align: middle;\n",
       "    }\n",
       "\n",
       "    .dataframe tbody tr th {\n",
       "        vertical-align: top;\n",
       "    }\n",
       "\n",
       "    .dataframe thead th {\n",
       "        text-align: right;\n",
       "    }\n",
       "</style>\n",
       "<table border=\"1\" class=\"dataframe\">\n",
       "  <thead>\n",
       "    <tr style=\"text-align: right;\">\n",
       "      <th></th>\n",
       "      <th>CUSTOMER</th>\n",
       "      <th>STATE</th>\n",
       "      <th>GENDER</th>\n",
       "      <th>EDUCATION</th>\n",
       "      <th>CUSTOMER LIFETIME VALUE</th>\n",
       "      <th>INCOME</th>\n",
       "      <th>MONTHLY PREMIUM AUTO</th>\n",
       "      <th>NUMBER OF OPEN COMPLAINTS</th>\n",
       "      <th>POLICY TYPE</th>\n",
       "      <th>VEHICLE CLASS</th>\n",
       "      <th>TOTAL CLAIM AMOUNT</th>\n",
       "    </tr>\n",
       "  </thead>\n",
       "  <tbody>\n",
       "    <tr>\n",
       "      <td>0</td>\n",
       "      <td>RB50392</td>\n",
       "      <td>Washington</td>\n",
       "      <td>NaN</td>\n",
       "      <td>Master</td>\n",
       "      <td>NaN</td>\n",
       "      <td>0.0</td>\n",
       "      <td>1000.0</td>\n",
       "      <td>1/0/00</td>\n",
       "      <td>Personal Auto</td>\n",
       "      <td>Four-Door Car</td>\n",
       "      <td>2.704934</td>\n",
       "    </tr>\n",
       "    <tr>\n",
       "      <td>1</td>\n",
       "      <td>QZ44356</td>\n",
       "      <td>Arizona</td>\n",
       "      <td>F</td>\n",
       "      <td>Bachelor</td>\n",
       "      <td>697953.59%</td>\n",
       "      <td>0.0</td>\n",
       "      <td>94.0</td>\n",
       "      <td>1/0/00</td>\n",
       "      <td>Personal Auto</td>\n",
       "      <td>Four-Door Car</td>\n",
       "      <td>1131.464935</td>\n",
       "    </tr>\n",
       "    <tr>\n",
       "      <td>2</td>\n",
       "      <td>AI49188</td>\n",
       "      <td>Nevada</td>\n",
       "      <td>F</td>\n",
       "      <td>Bachelor</td>\n",
       "      <td>1288743.17%</td>\n",
       "      <td>48767.0</td>\n",
       "      <td>108.0</td>\n",
       "      <td>1/0/00</td>\n",
       "      <td>Personal Auto</td>\n",
       "      <td>Two-Door Car</td>\n",
       "      <td>566.472247</td>\n",
       "    </tr>\n",
       "    <tr>\n",
       "      <td>3</td>\n",
       "      <td>WW63253</td>\n",
       "      <td>California</td>\n",
       "      <td>M</td>\n",
       "      <td>Bachelor</td>\n",
       "      <td>764586.18%</td>\n",
       "      <td>0.0</td>\n",
       "      <td>106.0</td>\n",
       "      <td>1/0/00</td>\n",
       "      <td>Corporate Auto</td>\n",
       "      <td>SUV</td>\n",
       "      <td>529.881344</td>\n",
       "    </tr>\n",
       "    <tr>\n",
       "      <td>4</td>\n",
       "      <td>GA49547</td>\n",
       "      <td>Washington</td>\n",
       "      <td>M</td>\n",
       "      <td>High School or Below</td>\n",
       "      <td>536307.65%</td>\n",
       "      <td>36357.0</td>\n",
       "      <td>68.0</td>\n",
       "      <td>1/0/00</td>\n",
       "      <td>Personal Auto</td>\n",
       "      <td>Four-Door Car</td>\n",
       "      <td>17.269323</td>\n",
       "    </tr>\n",
       "  </tbody>\n",
       "</table>\n",
       "</div>"
      ],
      "text/plain": [
       "  CUSTOMER       STATE GENDER             EDUCATION CUSTOMER LIFETIME VALUE  \\\n",
       "0  RB50392  Washington    NaN                Master                     NaN   \n",
       "1  QZ44356     Arizona      F              Bachelor              697953.59%   \n",
       "2  AI49188      Nevada      F              Bachelor             1288743.17%   \n",
       "3  WW63253  California      M              Bachelor              764586.18%   \n",
       "4  GA49547  Washington      M  High School or Below              536307.65%   \n",
       "\n",
       "    INCOME  MONTHLY PREMIUM AUTO NUMBER OF OPEN COMPLAINTS     POLICY TYPE  \\\n",
       "0      0.0                1000.0                    1/0/00   Personal Auto   \n",
       "1      0.0                  94.0                    1/0/00   Personal Auto   \n",
       "2  48767.0                 108.0                    1/0/00   Personal Auto   \n",
       "3      0.0                 106.0                    1/0/00  Corporate Auto   \n",
       "4  36357.0                  68.0                    1/0/00   Personal Auto   \n",
       "\n",
       "   VEHICLE CLASS  TOTAL CLAIM AMOUNT  \n",
       "0  Four-Door Car            2.704934  \n",
       "1  Four-Door Car         1131.464935  \n",
       "2   Two-Door Car          566.472247  \n",
       "3            SUV          529.881344  \n",
       "4  Four-Door Car           17.269323  "
      ]
     },
     "execution_count": 10,
     "metadata": {},
     "output_type": "execute_result"
    }
   ],
   "source": [
    "concat_f.head()"
   ]
  },
  {
   "cell_type": "code",
   "execution_count": 11,
   "metadata": {},
   "outputs": [],
   "source": [
    "#concat_f[concat_f.isna]"
   ]
  },
  {
   "cell_type": "code",
   "execution_count": 12,
   "metadata": {},
   "outputs": [
    {
     "name": "stdout",
     "output_type": "stream",
     "text": [
      "concat_f.shape:  (9137, 11)\n",
      "concat_f.shape:  (9015, 11)\n"
     ]
    }
   ],
   "source": [
    "print(\"concat_f.shape: \",concat_f.shape)\n",
    "concat_f.dropna(subset=['GENDER'],inplace=True)\n",
    "# we remove those rows where the Gender is not fill in. Assumption: gender is a good indication of customer behavior\n",
    "# only about 110 records are affected, not much.\n",
    "\n",
    "print(\"concat_f.shape: \",concat_f.shape)\n"
   ]
  },
  {
   "cell_type": "code",
   "execution_count": 13,
   "metadata": {},
   "outputs": [],
   "source": [
    "# remove % and add 0 where NAN\n",
    "concat_f[\"CUSTOMER LIFETIME VALUE\"]= concat_f[\"CUSTOMER LIFETIME VALUE\"].str.replace(\"RB\",\"\")\n",
    "concat_f[\"CUSTOMER LIFETIME VALUE\"]= concat_f[\"CUSTOMER LIFETIME VALUE\"].str.replace(\"%\",\"\").fillna(\"0\")"
   ]
  },
  {
   "cell_type": "code",
   "execution_count": 14,
   "metadata": {},
   "outputs": [
    {
     "data": {
      "text/plain": [
       "1        697953.59\n",
       "2       1288743.17\n",
       "3        764586.18\n",
       "4        536307.65\n",
       "5        825629.78\n",
       "           ...    \n",
       "7065             0\n",
       "7066             0\n",
       "7067             0\n",
       "7068             0\n",
       "7069             0\n",
       "Name: CUSTOMER LIFETIME VALUE, Length: 9015, dtype: object"
      ]
     },
     "execution_count": 14,
     "metadata": {},
     "output_type": "execute_result"
    }
   ],
   "source": [
    "concat_f[\"CUSTOMER LIFETIME VALUE\"]"
   ]
  },
  {
   "cell_type": "code",
   "execution_count": 15,
   "metadata": {},
   "outputs": [
    {
     "name": "stdout",
     "output_type": "stream",
     "text": [
      "(9015, 11)\n"
     ]
    }
   ],
   "source": [
    "print(concat_f.shape)\n",
    "# remove duplicates\n",
    "concat_f = concat_f.drop_duplicates()"
   ]
  },
  {
   "cell_type": "code",
   "execution_count": 16,
   "metadata": {},
   "outputs": [
    {
     "data": {
      "text/plain": [
       "(9012, 11)"
      ]
     },
     "execution_count": 16,
     "metadata": {},
     "output_type": "execute_result"
    }
   ],
   "source": [
    "# check if there were any dups\n",
    "concat_f.shape"
   ]
  },
  {
   "cell_type": "code",
   "execution_count": 18,
   "metadata": {},
   "outputs": [
    {
     "data": {
      "text/plain": [
       "(6742, 11)"
      ]
     },
     "execution_count": 18,
     "metadata": {},
     "output_type": "execute_result"
    }
   ],
   "source": [
    "concat_f.head()\n",
    "#remove customers income 0\n",
    "concat_f_wincome = concat_f[(concat_f[\"INCOME\"]!=0)]\n",
    "#check how the list changed\n",
    "concat_f_wincome.shape "
   ]
  },
  {
   "cell_type": "code",
   "execution_count": null,
   "metadata": {},
   "outputs": [],
   "source": []
  }
 ],
 "metadata": {
  "kernelspec": {
   "display_name": "Python 3",
   "language": "python",
   "name": "python3"
  },
  "language_info": {
   "codemirror_mode": {
    "name": "ipython",
    "version": 3
   },
   "file_extension": ".py",
   "mimetype": "text/x-python",
   "name": "python",
   "nbconvert_exporter": "python",
   "pygments_lexer": "ipython3",
   "version": "3.7.4"
  }
 },
 "nbformat": 4,
 "nbformat_minor": 2
}
